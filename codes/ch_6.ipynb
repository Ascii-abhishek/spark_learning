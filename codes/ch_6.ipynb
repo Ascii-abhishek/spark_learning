{
 "cells": [
  {
   "cell_type": "code",
   "execution_count": 1,
   "metadata": {},
   "outputs": [],
   "source": [
    "import pyspark\n",
    "from pyspark.sql import SparkSession\n",
    "\n",
    "from pyspark.sql.types import StructField, StructType, StringType, LongType\n",
    "from pyspark.sql.functions import *\n",
    "from pyspark.sql import Row"
   ]
  },
  {
   "cell_type": "code",
   "execution_count": 2,
   "metadata": {},
   "outputs": [
    {
     "name": "stdout",
     "output_type": "stream",
     "text": [
      "22/10/09 14:35:45 WARN Utils: Your hostname, AS-MAC-0006.local resolves to a loopback address: 127.0.0.1; using fd01:db8:1111:0:0:0:0:3 instead (on interface lo0)\n",
      "22/10/09 14:35:45 WARN Utils: Set SPARK_LOCAL_IP if you need to bind to another address\n"
     ]
    },
    {
     "name": "stderr",
     "output_type": "stream",
     "text": [
      "Setting default log level to \"WARN\".\n",
      "To adjust logging level use sc.setLogLevel(newLevel). For SparkR, use setLogLevel(newLevel).\n"
     ]
    },
    {
     "name": "stdout",
     "output_type": "stream",
     "text": [
      "22/10/09 14:35:45 WARN NativeCodeLoader: Unable to load native-hadoop library for your platform... using builtin-java classes where applicable\n"
     ]
    }
   ],
   "source": [
    "spark = SparkSession.builder.appName(\"spark_definitive_guide\").getOrCreate()"
   ]
  },
  {
   "cell_type": "code",
   "execution_count": 13,
   "metadata": {},
   "outputs": [
    {
     "name": "stdout",
     "output_type": "stream",
     "text": [
      "root\n",
      " |-- InvoiceNo: string (nullable = true)\n",
      " |-- StockCode: string (nullable = true)\n",
      " |-- Description: string (nullable = true)\n",
      " |-- Quantity: integer (nullable = true)\n",
      " |-- InvoiceDate: timestamp (nullable = true)\n",
      " |-- UnitPrice: double (nullable = true)\n",
      " |-- CustomerID: double (nullable = true)\n",
      " |-- Country: string (nullable = true)\n",
      "\n"
     ]
    }
   ],
   "source": [
    "path = \"./../src/retail-data/by-day/2010-12-01.csv\"\n",
    "df = spark.read.format('csv').option(\"header\", \"true\").option(\"inferSchema\", \"true\").load(path)\n",
    "df.printSchema()\n",
    "df.createOrReplaceTempView(\"dfTable\")"
   ]
  },
  {
   "cell_type": "code",
   "execution_count": 17,
   "metadata": {},
   "outputs": [
    {
     "name": "stdout",
     "output_type": "stream",
     "text": [
      "+---------+--------------------+\n",
      "|InvoiceNo|         Description|\n",
      "+---------+--------------------+\n",
      "|   536366|HAND WARMER UNION...|\n",
      "|   536366|HAND WARMER RED P...|\n",
      "|   536367|ASSORTED COLOUR B...|\n",
      "|   536367|POPPY'S PLAYHOUSE...|\n",
      "|   536367|POPPY'S PLAYHOUSE...|\n",
      "|   536367|FELTCRAFT PRINCES...|\n",
      "|   536367|IVORY KNITTED MUG...|\n",
      "|   536367|BOX OF 6 ASSORTED...|\n",
      "|   536367|BOX OF VINTAGE JI...|\n",
      "|   536367|BOX OF VINTAGE AL...|\n",
      "|   536367|HOME BUILDING BLO...|\n",
      "|   536367|LOVE BUILDING BLO...|\n",
      "|   536367|RECIPE BOX WITH M...|\n",
      "|   536367| DOORMAT NEW ENGLAND|\n",
      "|   536368|JAM MAKING SET WI...|\n",
      "|   536368|RED COAT RACK PAR...|\n",
      "|   536368|YELLOW COAT RACK ...|\n",
      "|   536368|BLUE COAT RACK PA...|\n",
      "|   536369|BATH BUILDING BLO...|\n",
      "|   536370|ALARM CLOCK BAKEL...|\n",
      "+---------+--------------------+\n",
      "only showing top 20 rows\n",
      "\n"
     ]
    },
    {
     "name": "stdout",
     "output_type": "stream",
     "text": [
      "22/10/09 18:23:35 WARN HeartbeatReceiver: Removing executor driver with no recent heartbeats: 1933814 ms exceeds timeout 120000 ms\n",
      "22/10/09 18:23:35 WARN SparkContext: Killing executors is not supported by current scheduler.\n"
     ]
    }
   ],
   "source": [
    "df.where(\"InvoiceNo <> 536365\").selectExpr(\"InvoiceNo\", \"Description\").show()"
   ]
  },
  {
   "cell_type": "code",
   "execution_count": 25,
   "metadata": {},
   "outputs": [
    {
     "name": "stdout",
     "output_type": "stream",
     "text": [
      "+---------+---------+--------------+--------+-------------------+---------+----------+--------------+-----------+------------------+\n",
      "|InvoiceNo|StockCode|   Description|Quantity|        InvoiceDate|UnitPrice|CustomerID|       Country|isExpensive|      realQuantity|\n",
      "+---------+---------+--------------+--------+-------------------+---------+----------+--------------+-----------+------------------+\n",
      "|   536544|      DOT|DOTCOM POSTAGE|       1|2010-12-01 14:32:00|   569.77|      null|United Kingdom|       true|       324642.8529|\n",
      "|   536592|      DOT|DOTCOM POSTAGE|       1|2010-12-01 17:06:00|   607.49|      null|United Kingdom|       true|369049.10010000004|\n",
      "+---------+---------+--------------+--------+-------------------+---------+----------+--------------+-----------+------------------+\n",
      "\n"
     ]
    }
   ],
   "source": [
    "# applying multiple filters into one liner\n",
    "\n",
    "DOTCodeFilter = col(\"StockCode\") == \"DOT\"\n",
    "priceFilter = col(\"UnitPrice\") > 600\n",
    "descripFilter = instr(col(\"Description\"), \"POSTAGE\") >= 1 # like string contains given subString 1 or more times\n",
    "newQuality = pow(col(\"Quantity\") * col(\"UnitPrice\"), 2) + 5 # like an expression\n",
    "\n",
    "df.withColumn(\"isExpensive\", DOTCodeFilter & (priceFilter | descripFilter)).where(\"isExpensive\")\\\n",
    "  .withColumn(\"realQuantity\", newQuality)\\\n",
    "  .show()"
   ]
  },
  {
   "cell_type": "code",
   "execution_count": 28,
   "metadata": {},
   "outputs": [
    {
     "name": "stdout",
     "output_type": "stream",
     "text": [
      "+-------------------------+\n",
      "|corr(Quantity, UnitPrice)|\n",
      "+-------------------------+\n",
      "|     -0.04112314436835551|\n",
      "+-------------------------+\n",
      "\n"
     ]
    }
   ],
   "source": [
    "# print(df.stat.corr(\"Quantity\", \"UnitPrice\"))\n",
    "df.select(corr(\"Quantity\", \"UnitPrice\")).show()\n",
    "df.describe().show()"
   ]
  },
  {
   "cell_type": "code",
   "execution_count": 34,
   "metadata": {},
   "outputs": [
    {
     "name": "stdout",
     "output_type": "stream",
     "text": [
      "+-----------------------------+\n",
      "|monotonically_increasing_id()|\n",
      "+-----------------------------+\n",
      "|                            0|\n",
      "|                            1|\n",
      "|                            2|\n",
      "|                            3|\n",
      "|                            4|\n",
      "|                            5|\n",
      "|                            6|\n",
      "|                            7|\n",
      "|                            8|\n",
      "|                            9|\n",
      "|                           10|\n",
      "|                           11|\n",
      "|                           12|\n",
      "|                           13|\n",
      "|                           14|\n",
      "|                           15|\n",
      "|                           16|\n",
      "|                           17|\n",
      "|                           18|\n",
      "|                           19|\n",
      "+-----------------------------+\n",
      "only showing top 20 rows\n",
      "\n"
     ]
    }
   ],
   "source": [
    "df.select(monotonically_increasing_id()).show()"
   ]
  },
  {
   "cell_type": "code",
   "execution_count": null,
   "metadata": {},
   "outputs": [],
   "source": []
  }
 ],
 "metadata": {
  "kernelspec": {
   "display_name": "Python 3.10.7 ('spark_learning': venv)",
   "language": "python",
   "name": "python3"
  },
  "language_info": {
   "codemirror_mode": {
    "name": "ipython",
    "version": 3
   },
   "file_extension": ".py",
   "mimetype": "text/x-python",
   "name": "python",
   "nbconvert_exporter": "python",
   "pygments_lexer": "ipython3",
   "version": "3.10.7"
  },
  "orig_nbformat": 4,
  "vscode": {
   "interpreter": {
    "hash": "221d6589af92ae1740d8ef81e7f5c4f5c2808ec9da299c9907514b6023ff7e8f"
   }
  }
 },
 "nbformat": 4,
 "nbformat_minor": 2
}
