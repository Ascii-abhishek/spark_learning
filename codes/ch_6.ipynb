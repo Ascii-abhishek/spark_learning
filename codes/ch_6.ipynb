{
 "cells": [
  {
   "cell_type": "code",
   "execution_count": 2,
   "metadata": {},
   "outputs": [],
   "source": [
    "import pyspark\n",
    "from pyspark.sql import SparkSession\n",
    "\n",
    "from pyspark.sql.types import StructField, StructType, StringType, LongType\n",
    "from pyspark.sql.functions import *\n",
    "from pyspark.sql import Row"
   ]
  },
  {
   "cell_type": "code",
   "execution_count": 3,
   "metadata": {},
   "outputs": [
    {
     "name": "stdout",
     "output_type": "stream",
     "text": [
      "23/04/25 21:35:33 WARN Utils: Your hostname, AS-MAC-0006.local resolves to a loopback address: 127.0.0.1; using 192.168.29.46 instead (on interface en0)\n",
      "23/04/25 21:35:33 WARN Utils: Set SPARK_LOCAL_IP if you need to bind to another address\n"
     ]
    },
    {
     "name": "stderr",
     "output_type": "stream",
     "text": [
      "Setting default log level to \"WARN\".\n",
      "To adjust logging level use sc.setLogLevel(newLevel). For SparkR, use setLogLevel(newLevel).\n"
     ]
    },
    {
     "name": "stdout",
     "output_type": "stream",
     "text": [
      "23/04/25 21:35:34 WARN NativeCodeLoader: Unable to load native-hadoop library for your platform... using builtin-java classes where applicable\n"
     ]
    }
   ],
   "source": [
    "spark = SparkSession.builder.appName(\"spark_definitive_guide\").getOrCreate()"
   ]
  },
  {
   "cell_type": "code",
   "execution_count": 4,
   "metadata": {},
   "outputs": [],
   "source": [
    "spark.stop()"
   ]
  },
  {
   "cell_type": "code",
   "execution_count": 6,
   "metadata": {},
   "outputs": [],
   "source": [
    "path = \"./../src/retail-data/by-day/2010-12-01.csv\"\n",
    "df = spark.read.format('csv').option(\"header\", \"true\").option(\"inferSchema\", \"true\").load(path)\n",
    "# df.printSchema()\n",
    "df.createOrReplaceTempView(\"dfTable\")"
   ]
  },
  {
   "cell_type": "code",
   "execution_count": 6,
   "metadata": {},
   "outputs": [
    {
     "name": "stdout",
     "output_type": "stream",
     "text": [
      "+---------+--------------------+\n",
      "|InvoiceNo|         Description|\n",
      "+---------+--------------------+\n",
      "|   536366|HAND WARMER UNION...|\n",
      "|   536366|HAND WARMER RED P...|\n",
      "|   536367|ASSORTED COLOUR B...|\n",
      "|   536367|POPPY'S PLAYHOUSE...|\n",
      "|   536367|POPPY'S PLAYHOUSE...|\n",
      "|   536367|FELTCRAFT PRINCES...|\n",
      "|   536367|IVORY KNITTED MUG...|\n",
      "|   536367|BOX OF 6 ASSORTED...|\n",
      "|   536367|BOX OF VINTAGE JI...|\n",
      "|   536367|BOX OF VINTAGE AL...|\n",
      "|   536367|HOME BUILDING BLO...|\n",
      "|   536367|LOVE BUILDING BLO...|\n",
      "|   536367|RECIPE BOX WITH M...|\n",
      "|   536367| DOORMAT NEW ENGLAND|\n",
      "|   536368|JAM MAKING SET WI...|\n",
      "|   536368|RED COAT RACK PAR...|\n",
      "|   536368|YELLOW COAT RACK ...|\n",
      "|   536368|BLUE COAT RACK PA...|\n",
      "|   536369|BATH BUILDING BLO...|\n",
      "|   536370|ALARM CLOCK BAKEL...|\n",
      "+---------+--------------------+\n",
      "only showing top 20 rows\n",
      "\n"
     ]
    },
    {
     "name": "stderr",
     "output_type": "stream",
     "text": [
      "                                                                                \r"
     ]
    },
    {
     "name": "stdout",
     "output_type": "stream",
     "text": [
      "+-------+-----------------+------------------+--------------------+------------------+------------------+------------------+--------------+\n",
      "|summary|        InvoiceNo|         StockCode|         Description|          Quantity|         UnitPrice|        CustomerID|       Country|\n",
      "+-------+-----------------+------------------+--------------------+------------------+------------------+------------------+--------------+\n",
      "|  count|             3108|              3108|                3098|              3108|              3108|              1968|          3108|\n",
      "|   mean| 536516.684944841|27834.304044117645|                null| 8.627413127413128| 4.151946589446603|15661.388719512195|          null|\n",
      "| stddev|72.89447869788873|17407.897548583845|                null|26.371821677029203|15.638659854603892|1854.4496996893627|          null|\n",
      "|    min|           536365|             10002| 4 PURPLE FLOCK D...|               -24|               0.0|           12431.0|     Australia|\n",
      "|    max|          C536548|              POST|ZINC WILLIE WINKI...|               600|            607.49|           18229.0|United Kingdom|\n",
      "+-------+-----------------+------------------+--------------------+------------------+------------------+------------------+--------------+\n",
      "\n",
      "+---------+---------+--------------+--------+-------------------+---------+----------+--------------+-----------+------------------+\n",
      "|InvoiceNo|StockCode|   Description|Quantity|        InvoiceDate|UnitPrice|CustomerID|       Country|isExpensive|      realQuantity|\n",
      "+---------+---------+--------------+--------+-------------------+---------+----------+--------------+-----------+------------------+\n",
      "|   536544|      DOT|DOTCOM POSTAGE|       1|2010-12-01 14:32:00|   569.77|      null|United Kingdom|       true|       324642.8529|\n",
      "|   536592|      DOT|DOTCOM POSTAGE|       1|2010-12-01 17:06:00|   607.49|      null|United Kingdom|       true|369049.10010000004|\n",
      "+---------+---------+--------------+--------+-------------------+---------+----------+--------------+-----------+------------------+\n",
      "\n"
     ]
    }
   ],
   "source": [
    "df.where(\"InvoiceNo <> 536365\").selectExpr(\"InvoiceNo\", \"Description\").show()\n",
    "df.describe().show()\n",
    "\n",
    "# applying multiple filters into one liner\n",
    "DOTCodeFilter = col(\"StockCode\") == \"DOT\"\n",
    "priceFilter = col(\"UnitPrice\") > 600\n",
    "descripFilter = instr(col(\"Description\"), \"POSTAGE\") >= 1 # like string contains given subString 1 or more times\n",
    "newQuality = pow(col(\"Quantity\") * col(\"UnitPrice\"), 2) + 5 # like an expression\n",
    "\n",
    "df.withColumn(\"isExpensive\", DOTCodeFilter & (priceFilter | descripFilter)).where(\"isExpensive\")\\\n",
    "  .withColumn(\"realQuantity\", newQuality)\\\n",
    "  .show()"
   ]
  },
  {
   "cell_type": "code",
   "execution_count": 12,
   "metadata": {},
   "outputs": [
    {
     "name": "stdout",
     "output_type": "stream",
     "text": [
      "+-----------------------------+----------------------+----------------------+-------------------------+--------------------------+-------------------------+-------------------------------+--------------------------------+\n",
      "|initcap(capitalize each word)|lower(LOWER CASE THIS)|upper(upper case this)|ltrim(   trim pre-spaces)|rtrim(trim post-spaces   )|trim(  trim both sides  )|lpad(add 3rd arg to left, 3,  )|rpad(add 3rd arg to right, 3,  )|\n",
      "+-----------------------------+----------------------+----------------------+-------------------------+--------------------------+-------------------------+-------------------------------+--------------------------------+\n",
      "|         Capitalize Each Word|       lower case this|       UPPER CASE THIS|          trim pre-spaces|          trim post-spaces|          trim both sides|                            add|                             add|\n",
      "+-----------------------------+----------------------+----------------------+-------------------------+--------------------------+-------------------------+-------------------------------+--------------------------------+\n",
      "only showing top 1 row\n",
      "\n"
     ]
    },
    {
     "name": "stdout",
     "output_type": "stream",
     "text": [
      "22/10/10 06:40:45 WARN HeartbeatReceiver: Removing executor driver with no recent heartbeats: 915887 ms exceeds timeout 120000 ms\n",
      "22/10/10 06:40:45 WARN SparkContext: Killing executors is not supported by current scheduler.\n"
     ]
    }
   ],
   "source": [
    "# String methods\n",
    "\n",
    "# initcap: capitalize each word\n",
    "df.select(initcap(lit(\"capitalize each word\")), \n",
    "          lower(lit(\"LOWER CASE THIS\")), \n",
    "          upper(lit(\"upper case this\")),\n",
    "          ltrim(lit(\"   trim pre-spaces\")), \n",
    "          rtrim(lit(\"trim post-spaces   \")),\n",
    "          trim(lit(\"  trim both sides  \")),\n",
    "          lpad(lit(\"add 3rd arg to left\"), 3, \" \"),\n",
    "          rpad(lit(\"add 3rd arg to right\"), 3, \" \")\n",
    "        ).show(1) \n"
   ]
  },
  {
   "cell_type": "code",
   "execution_count": 9,
   "metadata": {},
   "outputs": [
    {
     "name": "stdout",
     "output_type": "stream",
     "text": [
      "+--------------------+\n",
      "|         Description|\n",
      "+--------------------+\n",
      "|WHITE HANGING HEA...|\n",
      "| WHITE METAL LANTERN|\n",
      "|RED WOOLLY HOTTIE...|\n",
      "|WHITE HANGING HEA...|\n",
      "| WHITE METAL LANTERN|\n",
      "|WOOD 2 DRAWER CAB...|\n",
      "|WOOD S/3 CABINET ...|\n",
      "|WOODEN PICTURE FR...|\n",
      "|WOODEN FRAME ANTI...|\n",
      "|RED WOOLLY HOTTIE...|\n",
      "|WHITE HANGING HEA...|\n",
      "| WHITE METAL LANTERN|\n",
      "|WOOD 2 DRAWER CAB...|\n",
      "|WOOD S/3 CABINET ...|\n",
      "|WOODEN PICTURE FR...|\n",
      "|WOODEN FRAME ANTI...|\n",
      "|RED WOOLLY HOTTIE...|\n",
      "|JUMBO  BAG BAROQU...|\n",
      "|WHITE SPOT RED CE...|\n",
      "|FELT EGG COSY WHI...|\n",
      "+--------------------+\n",
      "only showing top 20 rows\n",
      "\n"
     ]
    }
   ],
   "source": [
    "# df.select(\"Description\").show(10, False)\n",
    "\n",
    "regex_replace_str = \"BLACK|WHITE|RED|GREEN|BLUE\"\n",
    "regex_extract_str = \"(BLACK|WHITE|RED|GREEN|BLUE)\"\n",
    "# Replacing BLACK, WHITE, RED, GREEN, BLUE with COLOR\n",
    "df.select(regexp_replace(col(\"Description\"), regex_replace_str, \"COLOR\").alias(\"color_clean\"), \"Description\")#.show(2, False)\n",
    "\n",
    "# Replace character wise.. L -> 1, E -> 3, T -> 7\n",
    "df.select(translate(col(\"Description\"), \"LEET\", \"1337\"), \"Description\")#.show(2, False)\n",
    "\n",
    "# extract from column if words are there in the value\n",
    "df.select(regexp_extract(col(\"Description\"), regex_extract_str, 1).alias(\"color_clean\"), \"Description\")#.show(2, False)\n",
    "\n",
    "# check if column has sub_string or not\n",
    "containsBlack = instr(\"Description\", \"BLACK\") >= 1\n",
    "containsWhite = instr(\"Description\", \"WHITE\") >= 1\n",
    "df.withColumn(\"hasBlackOrWhite\", containsBlack | containsWhite).where(\"hasBlackOrWhite\").select(\"Description\").show()\n"
   ]
  },
  {
   "cell_type": "code",
   "execution_count": 34,
   "metadata": {},
   "outputs": [
    {
     "name": "stdout",
     "output_type": "stream",
     "text": [
      "+-----------------------------+\n",
      "|monotonically_increasing_id()|\n",
      "+-----------------------------+\n",
      "|                            0|\n",
      "|                            1|\n",
      "|                            2|\n",
      "|                            3|\n",
      "|                            4|\n",
      "|                            5|\n",
      "|                            6|\n",
      "|                            7|\n",
      "|                            8|\n",
      "|                            9|\n",
      "|                           10|\n",
      "|                           11|\n",
      "|                           12|\n",
      "|                           13|\n",
      "|                           14|\n",
      "|                           15|\n",
      "|                           16|\n",
      "|                           17|\n",
      "|                           18|\n",
      "|                           19|\n",
      "+-----------------------------+\n",
      "only showing top 20 rows\n",
      "\n"
     ]
    }
   ],
   "source": [
    "df.select(monotonically_increasing_id()).show()"
   ]
  },
  {
   "cell_type": "code",
   "execution_count": null,
   "metadata": {},
   "outputs": [],
   "source": []
  }
 ],
 "metadata": {
  "kernelspec": {
   "display_name": "Python 3.10.7 ('spark_learning': venv)",
   "language": "python",
   "name": "python3"
  },
  "language_info": {
   "codemirror_mode": {
    "name": "ipython",
    "version": 3
   },
   "file_extension": ".py",
   "mimetype": "text/x-python",
   "name": "python",
   "nbconvert_exporter": "python",
   "pygments_lexer": "ipython3",
   "version": "3.10.7"
  },
  "orig_nbformat": 4,
  "vscode": {
   "interpreter": {
    "hash": "221d6589af92ae1740d8ef81e7f5c4f5c2808ec9da299c9907514b6023ff7e8f"
   }
  }
 },
 "nbformat": 4,
 "nbformat_minor": 2
}
