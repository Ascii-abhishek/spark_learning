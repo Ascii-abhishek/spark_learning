{
 "cells": [
  {
   "cell_type": "markdown",
   "metadata": {},
   "source": [
    "## This notebook clears following concepts\n",
    "- Basic Structure operations"
   ]
  },
  {
   "cell_type": "code",
   "execution_count": 1,
   "metadata": {},
   "outputs": [],
   "source": [
    "import pyspark\n",
    "from pyspark.sql import SparkSession\n",
    "\n",
    "from pyspark.sql.types import StructField, StructType, StringType, LongType\n",
    "from pyspark.sql.functions import *\n",
    "from pyspark.sql import Row"
   ]
  },
  {
   "cell_type": "code",
   "execution_count": 2,
   "metadata": {},
   "outputs": [
    {
     "name": "stdout",
     "output_type": "stream",
     "text": [
      "22/10/07 22:22:08 WARN Utils: Your hostname, AS-MAC-0006.local resolves to a loopback address: 127.0.0.1; using fd01:db8:1111:0:0:0:0:3 instead (on interface lo0)\n",
      "22/10/07 22:22:08 WARN Utils: Set SPARK_LOCAL_IP if you need to bind to another address\n"
     ]
    },
    {
     "name": "stderr",
     "output_type": "stream",
     "text": [
      "Setting default log level to \"WARN\".\n",
      "To adjust logging level use sc.setLogLevel(newLevel). For SparkR, use setLogLevel(newLevel).\n"
     ]
    },
    {
     "name": "stdout",
     "output_type": "stream",
     "text": [
      "22/10/07 22:22:09 WARN NativeCodeLoader: Unable to load native-hadoop library for your platform... using builtin-java classes where applicable\n"
     ]
    }
   ],
   "source": [
    "spark = SparkSession.builder.appName(\"spark_definitive_guide\").getOrCreate()"
   ]
  },
  {
   "cell_type": "code",
   "execution_count": 4,
   "metadata": {},
   "outputs": [],
   "source": [
    "manualSchema = StructType([\n",
    "    StructField('DEST_COUNTRY_NAME', StringType(), True), \n",
    "    StructField('ORIGIN_COUNTRY_NAME', StringType(), True), \n",
    "    StructField('count', LongType(), False, metadata={\"hello\": \"world\"})\n",
    "])"
   ]
  },
  {
   "cell_type": "code",
   "execution_count": 5,
   "metadata": {},
   "outputs": [],
   "source": [
    "path = \"./../src/flight-data/json/2015-summary.json\"\n",
    "df = spark.read.format('json').schema(manualSchema).load(path)"
   ]
  },
  {
   "cell_type": "code",
   "execution_count": 7,
   "metadata": {},
   "outputs": [
    {
     "data": {
      "text/plain": [
       "StructType([StructField('DEST_COUNTRY_NAME', StringType(), True), StructField('ORIGIN_COUNTRY_NAME', StringType(), True), StructField('count', LongType(), True)])"
      ]
     },
     "execution_count": 7,
     "metadata": {},
     "output_type": "execute_result"
    }
   ],
   "source": [
    "# constants\n",
    "\n",
    "df.schema\n",
    "df.columns\n",
    "\n"
   ]
  },
  {
   "cell_type": "markdown",
   "metadata": {},
   "source": [
    "### difference between select and selectExpr\n",
    "- `select(*cols: ColumnOrName) -> DataFrame`\n",
    "- `selectExpr(*expr: str) -> DataFrame`"
   ]
  },
  {
   "cell_type": "code",
   "execution_count": 34,
   "metadata": {},
   "outputs": [
    {
     "data": {
      "text/plain": [
       "DataFrame[(This colName have spaces * 10): bigint]"
      ]
     },
     "execution_count": 34,
     "metadata": {},
     "output_type": "execute_result"
    }
   ],
   "source": [
    "# select and selectExpr\n",
    "\n",
    "df.select('DEST_COUNTRY_NAME', 'ORIGIN_COUNTRY_NAME', 'count')\n",
    "df.select(expr(\"DEST_COUNTRY_NAME as dcount\"))\n",
    "\n",
    "df.selectExpr(\"*\", \"(DEST_COUNTRY_NAME = ORIGIN_COUNTRY_NAME) as sameCountry\") # using multiple exprs\n",
    "df.selectExpr('avg(count)', 'count(distinct(DEST_COUNTRY_NAME))') # no need of import of count/avg functions here\n",
    "\n",
    "\n",
    "dfWithLongColName = df.withColumn(\"This colName have spaces\", expr(\"count\"))\n",
    "dfWithLongColName.select(\"This colName have spaces\") # back tick not required and only string name is expected\n",
    "dfWithLongColName.selectExpr(\"`This colName have spaces` * 10\") # back tick required to separate string name and expression\n",
    "\n",
    "df.withColumnRenamed(\"DEST_COUNTRY_NAME\", \"new_name_dest_country\") # all cols with one col renamed\n",
    "df.withColumnRenamed(\"DEST_COUNTRY_NAME\" , \"dest_new_name\").withColumnRenamed(\"ORIGIN_COUNTRY_NAME\", \"orig_new_name\")"
   ]
  },
  {
   "cell_type": "markdown",
   "metadata": {},
   "source": [
    "### Difference between filter and where\n",
    "- `filter(condition: ColumnOrName) -> DataFrame`\n",
    "- `where(condition: ColumnOrName) -> DataFrame`\n",
    "\n",
    "Both are exactly the same and alias of one another. `where` is just for SQL people who want to use the same function name"
   ]
  },
  {
   "cell_type": "code",
   "execution_count": 49,
   "metadata": {},
   "outputs": [
    {
     "name": "stdout",
     "output_type": "stream",
     "text": [
      "+-----------------+-------------------+-----+\n",
      "|DEST_COUNTRY_NAME|ORIGIN_COUNTRY_NAME|count|\n",
      "+-----------------+-------------------+-----+\n",
      "|    United States|            Croatia|    1|\n",
      "+-----------------+-------------------+-----+\n",
      "\n"
     ]
    }
   ],
   "source": [
    "df.filter(col(\"count\") < 5)\n",
    "df.where(\"count < 5\")\n",
    "df.where(\"count < 5\").where(\"ORIGIN_COUNTRY_NAME == 'Croatia'\") # usign multiple conditions one over the other\n",
    "\n",
    "df.drop('DEST_COUNTRY_NAME', 'ORIGIN_COUNTRY_NAME') # returns another df, dont remove inplace\n",
    "\n",
    "# distinct finds distinct based on the combination of all the columns mentioned\n",
    "df.select('DEST_COUNTRY_NAME', 'ORIGIN_COUNTRY_NAME').distinct().count() # 256\n",
    "df.select('DEST_COUNTRY_NAME').distinct().count() # 132\n",
    "df.distinct().count() # 256\n",
    "\n",
    "# sort and orderBy: Both are same, orderBy is alias of sort for SQL people\n",
    "df.sort(expr(\"count desc\"))\n",
    "df.sort(col(\"count\").asc(), col(\"ORIGIN_COUNTRY_NAME\").desc())\n",
    "df.orderBy(desc_nulls_last(\"ORIGIN_COUNTRY_NAME\"), asc_nulls_first(\"DEST_COUNTRY_NAME\"))\n",
    "# Its better to use asc_nulls_first, asc_nulls_last, desc_nulls_first, desc_nulls_last... to better define position of null values\n",
    "\n",
    "df.limit(5).show()"
   ]
  },
  {
   "cell_type": "code",
   "execution_count": 16,
   "metadata": {},
   "outputs": [],
   "source": [
    "# Adding new Rows\n",
    "schema = df.schema\n",
    "newRows = [Row(\"New Country\", \"Other Country\", 5), Row(\"New Country 2\", \"Other Country 2\", 1)]\n",
    "parallelizedRows = spark.sparkContext.parallelize(newRows)\n",
    "newDf = spark.createDataFrame(parallelizedRows, schema)\n",
    "\n",
    "df2 = df.union(newDf)"
   ]
  },
  {
   "cell_type": "code",
   "execution_count": 21,
   "metadata": {},
   "outputs": [
    {
     "name": "stdout",
     "output_type": "stream",
     "text": [
      "+-----------------+--------------------+-----+\n",
      "|DEST_COUNTRY_NAME| ORIGIN_COUNTRY_NAME|count|\n",
      "+-----------------+--------------------+-----+\n",
      "|    United States|              Angola|   13|\n",
      "|    United States|            Anguilla|   38|\n",
      "|    United States| Antigua and Barbuda|  117|\n",
      "|    United States|           Argentina|  141|\n",
      "|    United States|               Aruba|  342|\n",
      "|    United States|           Australia|  258|\n",
      "|    United States|             Austria|   63|\n",
      "|    United States|          Azerbaijan|   21|\n",
      "|    United States|             Bahrain|    1|\n",
      "|    United States|            Barbados|  130|\n",
      "|    United States|             Belgium|  228|\n",
      "|    United States|              Belize|  193|\n",
      "|    United States|             Bermuda|  193|\n",
      "|    United States|             Bolivia|   13|\n",
      "|    United States|Bonaire, Sint Eus...|   59|\n",
      "|    United States|              Brazil|  619|\n",
      "|    United States|British Virgin Is...|   80|\n",
      "|    United States|            Bulgaria|    1|\n",
      "|    United States|              Canada| 8483|\n",
      "|    United States|          Cape Verde|   14|\n",
      "|    United States|      Cayman Islands|  310|\n",
      "|    United States|               Chile|  185|\n",
      "|    United States|               China|  920|\n",
      "|    United States|            Colombia|  867|\n",
      "|    United States|        Cook Islands|   13|\n",
      "|    United States|          Costa Rica|  608|\n",
      "|    United States|             Croatia|    1|\n",
      "|    United States|                Cuba|  478|\n",
      "|    United States|             Curacao|   83|\n",
      "|    United States|              Cyprus|    1|\n",
      "|    United States|      Czech Republic|   12|\n",
      "|    United States|             Denmark|  152|\n",
      "|    United States|            Dominica|   27|\n",
      "|    United States|  Dominican Republic| 1420|\n",
      "|    United States|             Ecuador|  300|\n",
      "|    United States|               Egypt|   12|\n",
      "|    United States|         El Salvador|  508|\n",
      "|    United States|             Estonia|    1|\n",
      "|    United States|            Ethiopia|   12|\n",
      "|    United States|Federated States ...|   69|\n",
      "|    United States|                Fiji|   25|\n",
      "|    United States|             Finland|   28|\n",
      "|    United States|              France|  952|\n",
      "|    United States|    French Polynesia|   40|\n",
      "|    United States|             Georgia|    1|\n",
      "|    United States|             Germany| 1336|\n",
      "|    United States|               Ghana|   20|\n",
      "|    United States|           Gibraltar|    1|\n",
      "|    United States|              Greece|   23|\n",
      "|    United States|           Greenland|    4|\n",
      "|    United States|             Grenada|   62|\n",
      "|    United States|          Guadeloupe|   59|\n",
      "|    United States|           Guatemala|  318|\n",
      "|    United States|              Guyana|   63|\n",
      "|    United States|               Haiti|  225|\n",
      "|    United States|            Honduras|  407|\n",
      "|    United States|           Hong Kong|  414|\n",
      "|    United States|             Hungary|    3|\n",
      "|    United States|             Iceland|  202|\n",
      "|    United States|               India|   62|\n",
      "|    United States|           Indonesia|    2|\n",
      "|    United States|             Ireland|  344|\n",
      "|    United States|              Israel|  127|\n",
      "|    United States|               Italy|  438|\n",
      "|    United States|             Jamaica|  712|\n",
      "|    United States|               Japan| 1496|\n",
      "|    United States|              Jordan|   44|\n",
      "|    United States|            Kiribati|   35|\n",
      "|    United States|              Kuwait|   28|\n",
      "|    United States|              Latvia|   15|\n",
      "|    United States|             Liberia|    2|\n",
      "|    United States|           Lithuania|    1|\n",
      "|    United States|          Luxembourg|  134|\n",
      "|    United States|            Malaysia|    3|\n",
      "|    United States|               Malta|    2|\n",
      "|    United States|    Marshall Islands|   39|\n",
      "|    United States|          Martinique|   43|\n",
      "|    United States|              Mexico| 7187|\n",
      "|    United States|          Montenegro|    1|\n",
      "|    United States|             Morocco|   19|\n",
      "|    United States|             Namibia|    1|\n",
      "|    United States|         Netherlands|  660|\n",
      "|    United States|         New Zealand|   74|\n",
      "|    United States|           Nicaragua|  201|\n",
      "|    United States|             Nigeria|   50|\n",
      "|    United States|              Norway|  115|\n",
      "|    United States|            Pakistan|   12|\n",
      "|    United States|               Palau|   31|\n",
      "|    United States|              Panama|  465|\n",
      "|    United States|    Papua New Guinea|    1|\n",
      "|    United States|            Paraguay|    6|\n",
      "|    United States|                Peru|  337|\n",
      "|    United States|         Philippines|  126|\n",
      "|    United States|              Poland|   33|\n",
      "|    United States|            Portugal|  134|\n",
      "|    United States|               Qatar|  109|\n",
      "|    United States|             Romania|   15|\n",
      "|    United States|              Russia|  161|\n",
      "|    United States|    Saint Barthelemy|   41|\n",
      "|    United States|Saint Kitts and N...|  145|\n",
      "+-----------------+--------------------+-----+\n",
      "only showing top 100 rows\n",
      "\n"
     ]
    }
   ],
   "source": []
  },
  {
   "cell_type": "code",
   "execution_count": null,
   "metadata": {},
   "outputs": [],
   "source": []
  }
 ],
 "metadata": {
  "kernelspec": {
   "display_name": "Python 3.10.7 ('spark_learning': venv)",
   "language": "python",
   "name": "python3"
  },
  "language_info": {
   "codemirror_mode": {
    "name": "ipython",
    "version": 3
   },
   "file_extension": ".py",
   "mimetype": "text/x-python",
   "name": "python",
   "nbconvert_exporter": "python",
   "pygments_lexer": "ipython3",
   "version": "3.10.7"
  },
  "orig_nbformat": 4,
  "vscode": {
   "interpreter": {
    "hash": "221d6589af92ae1740d8ef81e7f5c4f5c2808ec9da299c9907514b6023ff7e8f"
   }
  }
 },
 "nbformat": 4,
 "nbformat_minor": 2
}
